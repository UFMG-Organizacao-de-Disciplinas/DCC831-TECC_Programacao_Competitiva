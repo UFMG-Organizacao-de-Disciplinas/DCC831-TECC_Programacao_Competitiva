{
 "cells": [
  {
   "cell_type": "code",
   "execution_count": 4,
   "metadata": {},
   "outputs": [],
   "source": [
    "\n",
    "questoes = [\n",
    "    {'indice': '01', 'codigo': 1001, 'dificuldade': 4, 'link': 'https://judge.beecrowd.com/pt/problems/view/1001', 'nome': 'Extremamente Básico'},\n",
    "    {'indice': '02', 'codigo': 1021, 'dificuldade': 6, 'link': 'https://judge.beecrowd.com/pt/problems/view/1021', 'nome': 'Notas e Moedas'},\n",
    "    {'indice': '03', 'codigo': 1082, 'dificuldade': 5, 'link': 'https://judge.beecrowd.com/pt/problems/view/1082', 'nome': 'Componentes Conexos'},\n",
    "    {'indice': '04', 'codigo': 1086, 'dificuldade': 7, 'link': 'https://judge.beecrowd.com/pt/problems/view/1086', 'nome': 'O Salão do Clube'},\n",
    "    {'indice': '05', 'codigo': 1194, 'dificuldade': 3, 'link': 'https://judge.beecrowd.com/pt/problems/view/1194', 'nome': 'Prefixa, Infixa e Posfixa'},\n",
    "    {'indice': '06', 'codigo': 1205, 'dificuldade': 7, 'link': 'https://judge.beecrowd.com/pt/problems/view/1205', 'nome': 'Cerco a Leningrado'},\n",
    "    {'indice': '07', 'codigo': 1340, 'dificuldade': 2, 'link': 'https://judge.beecrowd.com/pt/problems/view/1340', 'nome': 'Eu Posso Adivinhar a Estrutura de Dados'},\n",
    "    {'indice': '08', 'codigo': 1357, 'dificuldade': 2, 'link': 'https://judge.beecrowd.com/pt/problems/view/1357', 'nome': 'Em Braille'},\n",
    "    {'indice': '09', 'codigo': 1385, 'dificuldade': 8, 'link': 'https://judge.beecrowd.com/pt/problems/view/1385', 'nome': 'Recuperação de Relatório'},\n",
    "    {'indice': '10', 'codigo': 1404, 'dificuldade': 6, 'link': 'https://judge.beecrowd.com/pt/problems/view/1404', 'nome': 'MegaDamas'},\n",
    "    {'indice': '11', 'codigo': 1416, 'dificuldade': 9, 'link': 'https://judge.beecrowd.com/pt/problems/view/1416', 'nome': 'Placar do ICPC'},\n",
    "    {'indice': '12', 'codigo': 1470, 'dificuldade': 4, 'link': 'https://judge.beecrowd.com/pt/problems/view/1470', 'nome': 'Máquina Dobradora'},\n",
    "    {'indice': '13', 'codigo': 1642, 'dificuldade': 6, 'link': 'https://judge.beecrowd.com/pt/problems/view/1642', 'nome': 'Teclado Quebrado'},\n",
    "    {'indice': '14', 'codigo': 1711, 'dificuldade': 8, 'link': 'https://judge.beecrowd.com/pt/problems/view/1711', 'nome': 'Dona Minhoca'},\n",
    "    {'indice': '15', 'codigo': 1767, 'dificuldade': 4, 'link': 'https://judge.beecrowd.com/pt/problems/view/1767', 'nome': 'Saco do Papai Noel'},\n",
    "    {'indice': '16', 'codigo': 2653, 'dificuldade': 2, 'link': 'https://judge.beecrowd.com/pt/problems/view/2653', 'nome': 'Dijkstra'},\n",
    "    {'indice': '17', 'codigo': 2661, 'dificuldade': 6, 'link': 'https://judge.beecrowd.com/pt/problems/view/2661', 'nome': 'Despojados'},\n",
    "    {'indice': '18', 'codigo': 2667, 'dificuldade': 3, 'link': 'https://judge.beecrowd.com/pt/problems/view/2667', 'nome': 'Jogo de Boca'},\n",
    "    {'indice': '19', 'codigo': 2683, 'dificuldade': 5, 'link': 'https://judge.beecrowd.com/pt/problems/view/2683', 'nome': 'Espaço de Projeto'},\n",
    "    {'indice': '20', 'codigo': 2784, 'dificuldade': 5, 'link': 'https://judge.beecrowd.com/pt/problems/view/2784', 'nome': 'Ilhas'},\n",
    "    {'indice': '21', 'codigo': 2880, 'dificuldade': 4, 'link': 'https://judge.beecrowd.com/pt/problems/view/2880', 'nome': 'Enigma'},\n",
    "    {'indice': '22', 'codigo': 2884, 'dificuldade': 5, 'link': 'https://judge.beecrowd.com/pt/problems/view/2884', 'nome': 'Interruptores'},\n",
    "    {'indice': '23', 'codigo': 2962, 'dificuldade': 9, 'link': 'https://judge.beecrowd.com/pt/problems/view/2962', 'nome': 'Arte Valiosa'},\n",
    "    {'indice': '24', 'codigo': 2971, 'dificuldade': 9, 'link': 'https://judge.beecrowd.com/pt/problems/view/2971', 'nome': 'Jogo de Baralho'},\n",
    "    {'indice': '25', 'codigo': 2973, 'dificuldade': 9, 'link': 'https://judge.beecrowd.com/pt/problems/view/2973', 'nome': 'Maratona Brasileira de Comedores de Pipoca'},\n",
    "]\n",
    "# Criação de arquivos.md\n",
    "\n",
    "for questao in questoes:\n",
    "    formed_name = f'{questao[\"indice\"]}_{questao[\"codigo\"]}_{questao[\"dificuldade\"]}_{questao[\"nome\"]}'\n",
    "    hyperlink = f'[{questao[\"codigo\"]}]: <{questao[\"link\"]}>'\n",
    "    with open(f'{formed_name}.md', 'w', encoding='utf-8') as f:\n",
    "        f.write(\n",
    "            f'# [{formed_name}][{questao[\"codigo\"]}]\\n\\n{hyperlink}\\n\\n## Descrição\\n\\n## Entrada\\n\\n## Saída\\n\\n## Código\\n\\n```cpp\\n\\n```\\n')\n",
    "\n",
    "    "
   ]
  }
 ],
 "metadata": {
  "kernelspec": {
   "display_name": "Python 3",
   "language": "python",
   "name": "python3"
  },
  "language_info": {
   "codemirror_mode": {
    "name": "ipython",
    "version": 3
   },
   "file_extension": ".py",
   "mimetype": "text/x-python",
   "name": "python",
   "nbconvert_exporter": "python",
   "pygments_lexer": "ipython3",
   "version": "3.12.4"
  }
 },
 "nbformat": 4,
 "nbformat_minor": 2
}
